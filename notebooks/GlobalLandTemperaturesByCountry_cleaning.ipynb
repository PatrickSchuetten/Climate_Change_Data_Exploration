{
 "cells": [
  {
   "cell_type": "code",
   "execution_count": 2,
   "id": "2a643570",
   "metadata": {},
   "outputs": [
    {
     "data": {
      "text/html": [
       "<div>\n",
       "<style scoped>\n",
       "    .dataframe tbody tr th:only-of-type {\n",
       "        vertical-align: middle;\n",
       "    }\n",
       "\n",
       "    .dataframe tbody tr th {\n",
       "        vertical-align: top;\n",
       "    }\n",
       "\n",
       "    .dataframe thead th {\n",
       "        text-align: right;\n",
       "    }\n",
       "</style>\n",
       "<table border=\"1\" class=\"dataframe\">\n",
       "  <thead>\n",
       "    <tr style=\"text-align: right;\">\n",
       "      <th></th>\n",
       "      <th>dt</th>\n",
       "      <th>AverageTemperature</th>\n",
       "      <th>AverageTemperatureUncertainty</th>\n",
       "      <th>Country</th>\n",
       "    </tr>\n",
       "  </thead>\n",
       "  <tbody>\n",
       "    <tr>\n",
       "      <th>0</th>\n",
       "      <td>1743-11-01</td>\n",
       "      <td>4.384</td>\n",
       "      <td>2.294</td>\n",
       "      <td>Åland</td>\n",
       "    </tr>\n",
       "    <tr>\n",
       "      <th>1</th>\n",
       "      <td>1743-12-01</td>\n",
       "      <td>NaN</td>\n",
       "      <td>NaN</td>\n",
       "      <td>Åland</td>\n",
       "    </tr>\n",
       "    <tr>\n",
       "      <th>2</th>\n",
       "      <td>1744-01-01</td>\n",
       "      <td>NaN</td>\n",
       "      <td>NaN</td>\n",
       "      <td>Åland</td>\n",
       "    </tr>\n",
       "    <tr>\n",
       "      <th>3</th>\n",
       "      <td>1744-02-01</td>\n",
       "      <td>NaN</td>\n",
       "      <td>NaN</td>\n",
       "      <td>Åland</td>\n",
       "    </tr>\n",
       "    <tr>\n",
       "      <th>4</th>\n",
       "      <td>1744-03-01</td>\n",
       "      <td>NaN</td>\n",
       "      <td>NaN</td>\n",
       "      <td>Åland</td>\n",
       "    </tr>\n",
       "    <tr>\n",
       "      <th>...</th>\n",
       "      <td>...</td>\n",
       "      <td>...</td>\n",
       "      <td>...</td>\n",
       "      <td>...</td>\n",
       "    </tr>\n",
       "    <tr>\n",
       "      <th>577457</th>\n",
       "      <td>2013-05-01</td>\n",
       "      <td>19.059</td>\n",
       "      <td>1.022</td>\n",
       "      <td>Zimbabwe</td>\n",
       "    </tr>\n",
       "    <tr>\n",
       "      <th>577458</th>\n",
       "      <td>2013-06-01</td>\n",
       "      <td>17.613</td>\n",
       "      <td>0.473</td>\n",
       "      <td>Zimbabwe</td>\n",
       "    </tr>\n",
       "    <tr>\n",
       "      <th>577459</th>\n",
       "      <td>2013-07-01</td>\n",
       "      <td>17.000</td>\n",
       "      <td>0.453</td>\n",
       "      <td>Zimbabwe</td>\n",
       "    </tr>\n",
       "    <tr>\n",
       "      <th>577460</th>\n",
       "      <td>2013-08-01</td>\n",
       "      <td>19.759</td>\n",
       "      <td>0.717</td>\n",
       "      <td>Zimbabwe</td>\n",
       "    </tr>\n",
       "    <tr>\n",
       "      <th>577461</th>\n",
       "      <td>2013-09-01</td>\n",
       "      <td>NaN</td>\n",
       "      <td>NaN</td>\n",
       "      <td>Zimbabwe</td>\n",
       "    </tr>\n",
       "  </tbody>\n",
       "</table>\n",
       "<p>577462 rows × 4 columns</p>\n",
       "</div>"
      ],
      "text/plain": [
       "                dt  AverageTemperature  AverageTemperatureUncertainty  \\\n",
       "0       1743-11-01               4.384                          2.294   \n",
       "1       1743-12-01                 NaN                            NaN   \n",
       "2       1744-01-01                 NaN                            NaN   \n",
       "3       1744-02-01                 NaN                            NaN   \n",
       "4       1744-03-01                 NaN                            NaN   \n",
       "...            ...                 ...                            ...   \n",
       "577457  2013-05-01              19.059                          1.022   \n",
       "577458  2013-06-01              17.613                          0.473   \n",
       "577459  2013-07-01              17.000                          0.453   \n",
       "577460  2013-08-01              19.759                          0.717   \n",
       "577461  2013-09-01                 NaN                            NaN   \n",
       "\n",
       "         Country  \n",
       "0          Åland  \n",
       "1          Åland  \n",
       "2          Åland  \n",
       "3          Åland  \n",
       "4          Åland  \n",
       "...          ...  \n",
       "577457  Zimbabwe  \n",
       "577458  Zimbabwe  \n",
       "577459  Zimbabwe  \n",
       "577460  Zimbabwe  \n",
       "577461  Zimbabwe  \n",
       "\n",
       "[577462 rows x 4 columns]"
      ]
     },
     "execution_count": 2,
     "metadata": {},
     "output_type": "execute_result"
    }
   ],
   "source": [
    "import pandas as pd\n",
    "import numpy as np\n",
    "\n",
    "df=pd.read_csv('../data/raw/GlobalLandTemperaturesByCountry.csv')\n",
    "df"
   ]
  },
  {
   "cell_type": "code",
   "execution_count": 3,
   "id": "aebb75a8-99ad-4eaf-8ace-e01e6cdadd69",
   "metadata": {},
   "outputs": [
    {
     "data": {
      "text/plain": [
       "dt                                   0\n",
       "AverageTemperature               32651\n",
       "AverageTemperatureUncertainty    31912\n",
       "Country                              0\n",
       "dtype: int64"
      ]
     },
     "execution_count": 3,
     "metadata": {},
     "output_type": "execute_result"
    }
   ],
   "source": [
    "#checking NaN's\n",
    "df.isna().sum()"
   ]
  },
  {
   "cell_type": "code",
   "execution_count": 4,
   "id": "00f58aa4-93b0-4209-b078-b377fc681b5d",
   "metadata": {},
   "outputs": [
    {
     "data": {
      "text/plain": [
       "dt                               0.000000\n",
       "AverageTemperature               0.056542\n",
       "AverageTemperatureUncertainty    0.055263\n",
       "Country                          0.000000\n",
       "dtype: float64"
      ]
     },
     "execution_count": 4,
     "metadata": {},
     "output_type": "execute_result"
    }
   ],
   "source": [
    "df.isna().sum()/df.shape[0]"
   ]
  },
  {
   "cell_type": "code",
   "execution_count": 5,
   "id": "f7e4b3f8-77a0-44b6-9b28-d9a0789d3913",
   "metadata": {},
   "outputs": [],
   "source": [
    "#renaming columns\n",
    "df=df.rename(columns={'dt':'date', 'AverageTemperature': 'average_temperature', 'AverageTemperatureUncertainty': 'average_temperature_unvertainty', 'Country': 'country'})"
   ]
  },
  {
   "cell_type": "code",
   "execution_count": 23,
   "id": "ea9df558-7584-4877-92bb-d722adfc43b5",
   "metadata": {},
   "outputs": [],
   "source": [
    "#changing data type\n",
    "df['date']=pd.to_datetime(df['date'])"
   ]
  },
  {
   "cell_type": "code",
   "execution_count": 25,
   "id": "6da9f0da-d666-4232-9a4b-ab04e26662e9",
   "metadata": {},
   "outputs": [
    {
     "data": {
      "text/plain": [
       "date                               datetime64[ns]\n",
       "average_temperature                       float64\n",
       "average_temperature_unvertainty           float64\n",
       "country                                    object\n",
       "dtype: object"
      ]
     },
     "execution_count": 25,
     "metadata": {},
     "output_type": "execute_result"
    }
   ],
   "source": [
    "df.dtypes"
   ]
  },
  {
   "cell_type": "code",
   "execution_count": 33,
   "id": "a01873c6-ff25-47e8-8ec1-126453b9094e",
   "metadata": {},
   "outputs": [],
   "source": [
    "df2=df[(df['date'] >= '2000-01-01') & (df['date'] <= '2009-12-01')]"
   ]
  },
  {
   "cell_type": "code",
   "execution_count": 34,
   "id": "ad6fead0-03d6-42f1-9594-dbce90923f6e",
   "metadata": {
    "jp-MarkdownHeadingCollapsed": true
   },
   "outputs": [
    {
     "data": {
      "text/plain": [
       "date                                 0\n",
       "average_temperature                120\n",
       "average_temperature_unvertainty      0\n",
       "country                              0\n",
       "dtype: int64"
      ]
     },
     "execution_count": 34,
     "metadata": {},
     "output_type": "execute_result"
    }
   ],
   "source": [
    "df2.isna().sum()"
   ]
  },
  {
   "cell_type": "code",
   "execution_count": 35,
   "id": "03962620-4370-4496-9e06-e2b72c78b272",
   "metadata": {},
   "outputs": [
    {
     "data": {
      "text/html": [
       "<div>\n",
       "<style scoped>\n",
       "    .dataframe tbody tr th:only-of-type {\n",
       "        vertical-align: middle;\n",
       "    }\n",
       "\n",
       "    .dataframe tbody tr th {\n",
       "        vertical-align: top;\n",
       "    }\n",
       "\n",
       "    .dataframe thead th {\n",
       "        text-align: right;\n",
       "    }\n",
       "</style>\n",
       "<table border=\"1\" class=\"dataframe\">\n",
       "  <thead>\n",
       "    <tr style=\"text-align: right;\">\n",
       "      <th></th>\n",
       "      <th>date</th>\n",
       "      <th>average_temperature</th>\n",
       "      <th>average_temperature_unvertainty</th>\n",
       "      <th>country</th>\n",
       "    </tr>\n",
       "  </thead>\n",
       "  <tbody>\n",
       "    <tr>\n",
       "      <th>23024</th>\n",
       "      <td>2000-01-01</td>\n",
       "      <td>NaN</td>\n",
       "      <td>0.571</td>\n",
       "      <td>Antarctica</td>\n",
       "    </tr>\n",
       "    <tr>\n",
       "      <th>23025</th>\n",
       "      <td>2000-02-01</td>\n",
       "      <td>NaN</td>\n",
       "      <td>0.555</td>\n",
       "      <td>Antarctica</td>\n",
       "    </tr>\n",
       "    <tr>\n",
       "      <th>23026</th>\n",
       "      <td>2000-03-01</td>\n",
       "      <td>NaN</td>\n",
       "      <td>0.526</td>\n",
       "      <td>Antarctica</td>\n",
       "    </tr>\n",
       "    <tr>\n",
       "      <th>23027</th>\n",
       "      <td>2000-04-01</td>\n",
       "      <td>NaN</td>\n",
       "      <td>0.639</td>\n",
       "      <td>Antarctica</td>\n",
       "    </tr>\n",
       "    <tr>\n",
       "      <th>23028</th>\n",
       "      <td>2000-05-01</td>\n",
       "      <td>NaN</td>\n",
       "      <td>0.639</td>\n",
       "      <td>Antarctica</td>\n",
       "    </tr>\n",
       "    <tr>\n",
       "      <th>...</th>\n",
       "      <td>...</td>\n",
       "      <td>...</td>\n",
       "      <td>...</td>\n",
       "      <td>...</td>\n",
       "    </tr>\n",
       "    <tr>\n",
       "      <th>23139</th>\n",
       "      <td>2009-08-01</td>\n",
       "      <td>NaN</td>\n",
       "      <td>0.646</td>\n",
       "      <td>Antarctica</td>\n",
       "    </tr>\n",
       "    <tr>\n",
       "      <th>23140</th>\n",
       "      <td>2009-09-01</td>\n",
       "      <td>NaN</td>\n",
       "      <td>0.566</td>\n",
       "      <td>Antarctica</td>\n",
       "    </tr>\n",
       "    <tr>\n",
       "      <th>23141</th>\n",
       "      <td>2009-10-01</td>\n",
       "      <td>NaN</td>\n",
       "      <td>0.479</td>\n",
       "      <td>Antarctica</td>\n",
       "    </tr>\n",
       "    <tr>\n",
       "      <th>23142</th>\n",
       "      <td>2009-11-01</td>\n",
       "      <td>NaN</td>\n",
       "      <td>0.511</td>\n",
       "      <td>Antarctica</td>\n",
       "    </tr>\n",
       "    <tr>\n",
       "      <th>23143</th>\n",
       "      <td>2009-12-01</td>\n",
       "      <td>NaN</td>\n",
       "      <td>0.590</td>\n",
       "      <td>Antarctica</td>\n",
       "    </tr>\n",
       "  </tbody>\n",
       "</table>\n",
       "<p>120 rows × 4 columns</p>\n",
       "</div>"
      ],
      "text/plain": [
       "            date  average_temperature  average_temperature_unvertainty  \\\n",
       "23024 2000-01-01                  NaN                            0.571   \n",
       "23025 2000-02-01                  NaN                            0.555   \n",
       "23026 2000-03-01                  NaN                            0.526   \n",
       "23027 2000-04-01                  NaN                            0.639   \n",
       "23028 2000-05-01                  NaN                            0.639   \n",
       "...          ...                  ...                              ...   \n",
       "23139 2009-08-01                  NaN                            0.646   \n",
       "23140 2009-09-01                  NaN                            0.566   \n",
       "23141 2009-10-01                  NaN                            0.479   \n",
       "23142 2009-11-01                  NaN                            0.511   \n",
       "23143 2009-12-01                  NaN                            0.590   \n",
       "\n",
       "          country  \n",
       "23024  Antarctica  \n",
       "23025  Antarctica  \n",
       "23026  Antarctica  \n",
       "23027  Antarctica  \n",
       "23028  Antarctica  \n",
       "...           ...  \n",
       "23139  Antarctica  \n",
       "23140  Antarctica  \n",
       "23141  Antarctica  \n",
       "23142  Antarctica  \n",
       "23143  Antarctica  \n",
       "\n",
       "[120 rows x 4 columns]"
      ]
     },
     "execution_count": 35,
     "metadata": {},
     "output_type": "execute_result"
    }
   ],
   "source": [
    "df2[df2['average_temperature'].isna()]"
   ]
  },
  {
   "cell_type": "code",
   "execution_count": 40,
   "id": "c1ec2605-5f64-48c8-a7b7-686b339736bb",
   "metadata": {},
   "outputs": [
    {
     "data": {
      "text/plain": [
       "242"
      ]
     },
     "execution_count": 40,
     "metadata": {},
     "output_type": "execute_result"
    }
   ],
   "source": [
    "df3 = df2[df2['country'] != 'Antarctica']\n",
    "df3['country'].nunique()"
   ]
  },
  {
   "cell_type": "code",
   "execution_count": 39,
   "id": "950d2953-3285-497b-af42-8e140f25e20e",
   "metadata": {},
   "outputs": [],
   "source": [
    "df3.to_csv('../data/cleaned/global_temperatures_by_country_2000_2009_cleaned.csv')"
   ]
  },
  {
   "cell_type": "code",
   "execution_count": 7,
   "id": "54539c2e",
   "metadata": {},
   "outputs": [
    {
     "data": {
      "text/html": [
       "<div>\n",
       "<style scoped>\n",
       "    .dataframe tbody tr th:only-of-type {\n",
       "        vertical-align: middle;\n",
       "    }\n",
       "\n",
       "    .dataframe tbody tr th {\n",
       "        vertical-align: top;\n",
       "    }\n",
       "\n",
       "    .dataframe thead th {\n",
       "        text-align: right;\n",
       "    }\n",
       "</style>\n",
       "<table border=\"1\" class=\"dataframe\">\n",
       "  <thead>\n",
       "    <tr style=\"text-align: right;\">\n",
       "      <th></th>\n",
       "      <th>date</th>\n",
       "      <th>average_temperature</th>\n",
       "      <th>average_temperature_unvertainty</th>\n",
       "      <th>country</th>\n",
       "    </tr>\n",
       "  </thead>\n",
       "  <tbody>\n",
       "    <tr>\n",
       "      <th>2834</th>\n",
       "      <td>1980-01-01</td>\n",
       "      <td>-4.073</td>\n",
       "      <td>0.518</td>\n",
       "      <td>Åland</td>\n",
       "    </tr>\n",
       "    <tr>\n",
       "      <th>2835</th>\n",
       "      <td>1980-02-01</td>\n",
       "      <td>-6.484</td>\n",
       "      <td>0.441</td>\n",
       "      <td>Åland</td>\n",
       "    </tr>\n",
       "    <tr>\n",
       "      <th>2836</th>\n",
       "      <td>1980-03-01</td>\n",
       "      <td>-3.947</td>\n",
       "      <td>0.466</td>\n",
       "      <td>Åland</td>\n",
       "    </tr>\n",
       "    <tr>\n",
       "      <th>2837</th>\n",
       "      <td>1980-04-01</td>\n",
       "      <td>2.928</td>\n",
       "      <td>0.597</td>\n",
       "      <td>Åland</td>\n",
       "    </tr>\n",
       "    <tr>\n",
       "      <th>2838</th>\n",
       "      <td>1980-05-01</td>\n",
       "      <td>6.154</td>\n",
       "      <td>0.241</td>\n",
       "      <td>Åland</td>\n",
       "    </tr>\n",
       "    <tr>\n",
       "      <th>...</th>\n",
       "      <td>...</td>\n",
       "      <td>...</td>\n",
       "      <td>...</td>\n",
       "      <td>...</td>\n",
       "    </tr>\n",
       "    <tr>\n",
       "      <th>577448</th>\n",
       "      <td>2012-08-01</td>\n",
       "      <td>18.946</td>\n",
       "      <td>1.127</td>\n",
       "      <td>Zimbabwe</td>\n",
       "    </tr>\n",
       "    <tr>\n",
       "      <th>577449</th>\n",
       "      <td>2012-09-01</td>\n",
       "      <td>22.609</td>\n",
       "      <td>0.643</td>\n",
       "      <td>Zimbabwe</td>\n",
       "    </tr>\n",
       "    <tr>\n",
       "      <th>577450</th>\n",
       "      <td>2012-10-01</td>\n",
       "      <td>23.482</td>\n",
       "      <td>0.574</td>\n",
       "      <td>Zimbabwe</td>\n",
       "    </tr>\n",
       "    <tr>\n",
       "      <th>577451</th>\n",
       "      <td>2012-11-01</td>\n",
       "      <td>24.606</td>\n",
       "      <td>0.532</td>\n",
       "      <td>Zimbabwe</td>\n",
       "    </tr>\n",
       "    <tr>\n",
       "      <th>577452</th>\n",
       "      <td>2012-12-01</td>\n",
       "      <td>24.111</td>\n",
       "      <td>0.846</td>\n",
       "      <td>Zimbabwe</td>\n",
       "    </tr>\n",
       "  </tbody>\n",
       "</table>\n",
       "<p>96228 rows × 4 columns</p>\n",
       "</div>"
      ],
      "text/plain": [
       "              date  average_temperature  average_temperature_unvertainty  \\\n",
       "2834    1980-01-01               -4.073                            0.518   \n",
       "2835    1980-02-01               -6.484                            0.441   \n",
       "2836    1980-03-01               -3.947                            0.466   \n",
       "2837    1980-04-01                2.928                            0.597   \n",
       "2838    1980-05-01                6.154                            0.241   \n",
       "...            ...                  ...                              ...   \n",
       "577448  2012-08-01               18.946                            1.127   \n",
       "577449  2012-09-01               22.609                            0.643   \n",
       "577450  2012-10-01               23.482                            0.574   \n",
       "577451  2012-11-01               24.606                            0.532   \n",
       "577452  2012-12-01               24.111                            0.846   \n",
       "\n",
       "         country  \n",
       "2834       Åland  \n",
       "2835       Åland  \n",
       "2836       Åland  \n",
       "2837       Åland  \n",
       "2838       Åland  \n",
       "...          ...  \n",
       "577448  Zimbabwe  \n",
       "577449  Zimbabwe  \n",
       "577450  Zimbabwe  \n",
       "577451  Zimbabwe  \n",
       "577452  Zimbabwe  \n",
       "\n",
       "[96228 rows x 4 columns]"
      ]
     },
     "execution_count": 7,
     "metadata": {},
     "output_type": "execute_result"
    }
   ],
   "source": [
    "#new df with slicing from 1980 to 2012\n",
    "df1980_2012=df[(df['date'] >= '1980-01-01') & (df['date'] <= '2012-12-01')]\n",
    "df1980_2012"
   ]
  },
  {
   "cell_type": "code",
   "execution_count": 8,
   "id": "17b643a4",
   "metadata": {},
   "outputs": [
    {
     "data": {
      "text/plain": [
       "date                                 0\n",
       "average_temperature                396\n",
       "average_temperature_unvertainty      0\n",
       "country                              0\n",
       "dtype: int64"
      ]
     },
     "execution_count": 8,
     "metadata": {},
     "output_type": "execute_result"
    }
   ],
   "source": [
    "#checking for nan's\n",
    "df1980_2012.isna().sum()"
   ]
  },
  {
   "cell_type": "code",
   "execution_count": 18,
   "id": "338e5d45",
   "metadata": {},
   "outputs": [
    {
     "data": {
      "text/plain": [
       "array(['Antarctica'], dtype=object)"
      ]
     },
     "execution_count": 18,
     "metadata": {},
     "output_type": "execute_result"
    }
   ],
   "source": [
    "rows_with_missing_values = df1980_2012[df1980_2012.isnull().any(axis=1)]\n",
    "rows_with_missing_values['country'].unique()"
   ]
  },
  {
   "cell_type": "code",
   "execution_count": 26,
   "id": "3aeaabee",
   "metadata": {},
   "outputs": [
    {
     "data": {
      "text/plain": [
       "array(['Åland', 'Afghanistan', 'Albania', 'Algeria', 'American Samoa',\n",
       "       'Andorra', 'Angola', 'Anguilla', 'Antigua And Barbuda',\n",
       "       'Argentina', 'Armenia', 'Aruba', 'Australia', 'Austria',\n",
       "       'Azerbaijan', 'Bahamas', 'Bahrain', 'Baker Island', 'Bangladesh',\n",
       "       'Barbados', 'Belarus', 'Belgium', 'Belize', 'Benin', 'Bhutan',\n",
       "       'Bolivia', 'Bonaire, Saint Eustatius And Saba',\n",
       "       'Bosnia And Herzegovina', 'Botswana', 'Brazil',\n",
       "       'British Virgin Islands', 'Bulgaria', 'Burkina Faso', 'Burma',\n",
       "       'Burundi', \"Côte D'Ivoire\", 'Cambodia', 'Cameroon', 'Canada',\n",
       "       'Cape Verde', 'Cayman Islands', 'Central African Republic', 'Chad',\n",
       "       'Chile', 'China', 'Christmas Island', 'Colombia', 'Comoros',\n",
       "       'Congo (Democratic Republic Of The)', 'Congo', 'Costa Rica',\n",
       "       'Croatia', 'Cuba', 'Curaçao', 'Cyprus', 'Czech Republic',\n",
       "       'Denmark (Europe)', 'Denmark', 'Djibouti', 'Dominica',\n",
       "       'Dominican Republic', 'Ecuador', 'Egypt', 'El Salvador',\n",
       "       'Equatorial Guinea', 'Eritrea', 'Estonia', 'Ethiopia',\n",
       "       'Falkland Islands (Islas Malvinas)', 'Faroe Islands',\n",
       "       'Federated States Of Micronesia', 'Fiji', 'Finland',\n",
       "       'France (Europe)', 'France', 'French Guiana', 'French Polynesia',\n",
       "       'French Southern And Antarctic Lands', 'Gabon', 'Gambia',\n",
       "       'Gaza Strip', 'Georgia', 'Germany', 'Ghana', 'Greece', 'Greenland',\n",
       "       'Grenada', 'Guadeloupe', 'Guam', 'Guatemala', 'Guernsey',\n",
       "       'Guinea Bissau', 'Guinea', 'Guyana', 'Haiti',\n",
       "       'Heard Island And Mcdonald Islands', 'Honduras', 'Hong Kong',\n",
       "       'Hungary', 'Iceland', 'India', 'Indonesia', 'Iran', 'Iraq',\n",
       "       'Ireland', 'Isle Of Man', 'Israel', 'Italy', 'Jamaica', 'Japan',\n",
       "       'Jersey', 'Jordan', 'Kazakhstan', 'Kenya', 'Kingman Reef',\n",
       "       'Kiribati', 'Kuwait', 'Kyrgyzstan', 'Laos', 'Latvia', 'Lebanon',\n",
       "       'Lesotho', 'Liberia', 'Libya', 'Liechtenstein', 'Lithuania',\n",
       "       'Luxembourg', 'Macau', 'Macedonia', 'Madagascar', 'Malawi',\n",
       "       'Malaysia', 'Mali', 'Malta', 'Martinique', 'Mauritania',\n",
       "       'Mauritius', 'Mayotte', 'Mexico', 'Moldova', 'Monaco', 'Mongolia',\n",
       "       'Montenegro', 'Montserrat', 'Morocco', 'Mozambique', 'Namibia',\n",
       "       'Nepal', 'Netherlands (Europe)', 'Netherlands', 'New Caledonia',\n",
       "       'New Zealand', 'Nicaragua', 'Niger', 'Nigeria', 'Niue',\n",
       "       'North Korea', 'Northern Mariana Islands', 'Norway', 'Oman',\n",
       "       'Pakistan', 'Palau', 'Palestina', 'Palmyra Atoll', 'Panama',\n",
       "       'Papua New Guinea', 'Paraguay', 'Peru', 'Philippines', 'Poland',\n",
       "       'Portugal', 'Puerto Rico', 'Qatar', 'Reunion', 'Romania', 'Russia',\n",
       "       'Rwanda', 'Saint Barthélemy', 'Saint Kitts And Nevis',\n",
       "       'Saint Lucia', 'Saint Martin', 'Saint Pierre And Miquelon',\n",
       "       'Saint Vincent And The Grenadines', 'Samoa', 'San Marino',\n",
       "       'Sao Tome And Principe', 'Saudi Arabia', 'Senegal', 'Serbia',\n",
       "       'Seychelles', 'Sierra Leone', 'Singapore', 'Sint Maarten',\n",
       "       'Slovakia', 'Slovenia', 'Solomon Islands', 'Somalia',\n",
       "       'South Africa', 'South Georgia And The South Sandwich Isla',\n",
       "       'South Korea', 'Spain', 'Sri Lanka', 'Sudan', 'Suriname',\n",
       "       'Svalbard And Jan Mayen', 'Swaziland', 'Sweden', 'Switzerland',\n",
       "       'Syria', 'Taiwan', 'Tajikistan', 'Tanzania', 'Thailand',\n",
       "       'Timor Leste', 'Togo', 'Tonga', 'Trinidad And Tobago', 'Tunisia',\n",
       "       'Turkey', 'Turkmenistan', 'Turks And Caicas Islands', 'Uganda',\n",
       "       'Ukraine', 'United Arab Emirates', 'United Kingdom (Europe)',\n",
       "       'United Kingdom', 'United States', 'Uruguay', 'Uzbekistan',\n",
       "       'Venezuela', 'Vietnam', 'Virgin Islands', 'Western Sahara',\n",
       "       'Yemen', 'Zambia', 'Zimbabwe'], dtype=object)"
      ]
     },
     "execution_count": 26,
     "metadata": {},
     "output_type": "execute_result"
    }
   ],
   "source": [
    "df1980_2012_cleaned= df1980_2012[df1980_2012['country'] != 'Antarctica']\n",
    "df1980_2012_cleaned_noregions = df1980_2012_cleaned[~df1980_2012_cleaned['country'].isin(['Asia', 'Africa', 'North America', 'South America', 'Oceania', 'Europe'])]\n",
    "df1980_2012_cleaned_noregions"
   ]
  },
  {
   "cell_type": "code",
   "execution_count": 27,
   "id": "164c3a85",
   "metadata": {},
   "outputs": [],
   "source": [
    "df1980_2012_cleaned_noregions.to_csv(\"global_temperatures_by_country_1980_2012_cleaned.csv\")"
   ]
  },
  {
   "cell_type": "code",
   "execution_count": 36,
   "id": "8fa48189",
   "metadata": {},
   "outputs": [
    {
     "ename": "AttributeError",
     "evalue": "'DataFrame' object has no attribute 'unique'",
     "output_type": "error",
     "traceback": [
      "\u001b[0;31m---------------------------------------------------------------------------\u001b[0m",
      "\u001b[0;31mAttributeError\u001b[0m                            Traceback (most recent call last)",
      "\u001b[0;32m/var/folders/dx/5q4b9pnn4zl_g4hjsbv88qx00000gn/T/ipykernel_72020/2014880651.py\u001b[0m in \u001b[0;36m?\u001b[0;34m()\u001b[0m\n\u001b[1;32m      1\u001b[0m \u001b[0mmissing_values\u001b[0m\u001b[0;34m=\u001b[0m\u001b[0mdf\u001b[0m\u001b[0;34m[\u001b[0m\u001b[0mdf\u001b[0m\u001b[0;34m[\u001b[0m\u001b[0;34m'average_temperature'\u001b[0m\u001b[0;34m]\u001b[0m\u001b[0;34m.\u001b[0m\u001b[0misna\u001b[0m\u001b[0;34m(\u001b[0m\u001b[0;34m)\u001b[0m\u001b[0;34m]\u001b[0m\u001b[0;34m\u001b[0m\u001b[0;34m\u001b[0m\u001b[0m\n\u001b[0;32m----> 2\u001b[0;31m \u001b[0mmissing_values\u001b[0m\u001b[0;34m.\u001b[0m\u001b[0munique\u001b[0m\u001b[0;34m(\u001b[0m\u001b[0;34m)\u001b[0m\u001b[0;34m\u001b[0m\u001b[0;34m\u001b[0m\u001b[0m\n\u001b[0m",
      "\u001b[0;32m~/Desktop/Ironhack/Week_5/Mid_bootcamp_project/mid_project/new_env/lib/python3.11/site-packages/pandas/core/generic.py\u001b[0m in \u001b[0;36m?\u001b[0;34m(self, name)\u001b[0m\n\u001b[1;32m   6200\u001b[0m             \u001b[0;32mand\u001b[0m \u001b[0mname\u001b[0m \u001b[0;32mnot\u001b[0m \u001b[0;32min\u001b[0m \u001b[0mself\u001b[0m\u001b[0;34m.\u001b[0m\u001b[0m_accessors\u001b[0m\u001b[0;34m\u001b[0m\u001b[0;34m\u001b[0m\u001b[0m\n\u001b[1;32m   6201\u001b[0m             \u001b[0;32mand\u001b[0m \u001b[0mself\u001b[0m\u001b[0;34m.\u001b[0m\u001b[0m_info_axis\u001b[0m\u001b[0;34m.\u001b[0m\u001b[0m_can_hold_identifiers_and_holds_name\u001b[0m\u001b[0;34m(\u001b[0m\u001b[0mname\u001b[0m\u001b[0;34m)\u001b[0m\u001b[0;34m\u001b[0m\u001b[0;34m\u001b[0m\u001b[0m\n\u001b[1;32m   6202\u001b[0m         ):\n\u001b[1;32m   6203\u001b[0m             \u001b[0;32mreturn\u001b[0m \u001b[0mself\u001b[0m\u001b[0;34m[\u001b[0m\u001b[0mname\u001b[0m\u001b[0;34m]\u001b[0m\u001b[0;34m\u001b[0m\u001b[0;34m\u001b[0m\u001b[0m\n\u001b[0;32m-> 6204\u001b[0;31m         \u001b[0;32mreturn\u001b[0m \u001b[0mobject\u001b[0m\u001b[0;34m.\u001b[0m\u001b[0m__getattribute__\u001b[0m\u001b[0;34m(\u001b[0m\u001b[0mself\u001b[0m\u001b[0;34m,\u001b[0m \u001b[0mname\u001b[0m\u001b[0;34m)\u001b[0m\u001b[0;34m\u001b[0m\u001b[0;34m\u001b[0m\u001b[0m\n\u001b[0m",
      "\u001b[0;31mAttributeError\u001b[0m: 'DataFrame' object has no attribute 'unique'"
     ]
    }
   ],
   "source": [
    "missing_values=df[df['average_temperature'].isna()]\n",
    "missing_values.unique()"
   ]
  }
 ],
 "metadata": {
  "kernelspec": {
   "display_name": "new_env",
   "language": "python",
   "name": "new_env"
  },
  "language_info": {
   "codemirror_mode": {
    "name": "ipython",
    "version": 3
   },
   "file_extension": ".py",
   "mimetype": "text/x-python",
   "name": "python",
   "nbconvert_exporter": "python",
   "pygments_lexer": "ipython3",
   "version": "3.11.6"
  }
 },
 "nbformat": 4,
 "nbformat_minor": 5
}
