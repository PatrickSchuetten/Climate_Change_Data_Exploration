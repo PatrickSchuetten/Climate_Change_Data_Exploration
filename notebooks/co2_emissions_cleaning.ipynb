{
 "cells": [
  {
   "cell_type": "code",
   "execution_count": 1,
   "id": "27e76bd2-c790-47ef-b5fb-70b798f15af9",
   "metadata": {},
   "outputs": [],
   "source": [
    "import pandas as pd\n",
    "import numpy as np"
   ]
  },
  {
   "cell_type": "code",
   "execution_count": 2,
   "id": "a82b4f59-939f-4f31-ab96-3ff553e0305d",
   "metadata": {},
   "outputs": [],
   "source": [
    "data = pd.read_csv('../data/raw/co2_emissions_kt_by_country.csv')"
   ]
  },
  {
   "cell_type": "code",
   "execution_count": 3,
   "id": "30bc2120-4e64-41f7-897d-2d9ce2e861de",
   "metadata": {},
   "outputs": [
    {
     "data": {
      "text/html": [
       "<div>\n",
       "<style scoped>\n",
       "    .dataframe tbody tr th:only-of-type {\n",
       "        vertical-align: middle;\n",
       "    }\n",
       "\n",
       "    .dataframe tbody tr th {\n",
       "        vertical-align: top;\n",
       "    }\n",
       "\n",
       "    .dataframe thead th {\n",
       "        text-align: right;\n",
       "    }\n",
       "</style>\n",
       "<table border=\"1\" class=\"dataframe\">\n",
       "  <thead>\n",
       "    <tr style=\"text-align: right;\">\n",
       "      <th></th>\n",
       "      <th>country_code</th>\n",
       "      <th>country_name</th>\n",
       "      <th>year</th>\n",
       "      <th>value</th>\n",
       "    </tr>\n",
       "  </thead>\n",
       "  <tbody>\n",
       "    <tr>\n",
       "      <th>0</th>\n",
       "      <td>ABW</td>\n",
       "      <td>Aruba</td>\n",
       "      <td>1960</td>\n",
       "      <td>11092.675</td>\n",
       "    </tr>\n",
       "    <tr>\n",
       "      <th>1</th>\n",
       "      <td>ABW</td>\n",
       "      <td>Aruba</td>\n",
       "      <td>1961</td>\n",
       "      <td>11576.719</td>\n",
       "    </tr>\n",
       "    <tr>\n",
       "      <th>2</th>\n",
       "      <td>ABW</td>\n",
       "      <td>Aruba</td>\n",
       "      <td>1962</td>\n",
       "      <td>12713.489</td>\n",
       "    </tr>\n",
       "    <tr>\n",
       "      <th>3</th>\n",
       "      <td>ABW</td>\n",
       "      <td>Aruba</td>\n",
       "      <td>1963</td>\n",
       "      <td>12178.107</td>\n",
       "    </tr>\n",
       "    <tr>\n",
       "      <th>4</th>\n",
       "      <td>ABW</td>\n",
       "      <td>Aruba</td>\n",
       "      <td>1964</td>\n",
       "      <td>11840.743</td>\n",
       "    </tr>\n",
       "  </tbody>\n",
       "</table>\n",
       "</div>"
      ],
      "text/plain": [
       "  country_code country_name  year      value\n",
       "0          ABW        Aruba  1960  11092.675\n",
       "1          ABW        Aruba  1961  11576.719\n",
       "2          ABW        Aruba  1962  12713.489\n",
       "3          ABW        Aruba  1963  12178.107\n",
       "4          ABW        Aruba  1964  11840.743"
      ]
     },
     "execution_count": 3,
     "metadata": {},
     "output_type": "execute_result"
    }
   ],
   "source": [
    "data.head()"
   ]
  },
  {
   "cell_type": "code",
   "execution_count": 4,
   "id": "5e0c1e69-a79b-43f9-a8b4-e4a79d29814f",
   "metadata": {},
   "outputs": [
    {
     "data": {
      "text/plain": [
       "country_code    0\n",
       "country_name    0\n",
       "year            0\n",
       "value           0\n",
       "dtype: int64"
      ]
     },
     "execution_count": 4,
     "metadata": {},
     "output_type": "execute_result"
    }
   ],
   "source": [
    "data.isna().sum()"
   ]
  },
  {
   "cell_type": "code",
   "execution_count": 5,
   "id": "30643ae6-194e-4ea3-90ee-837ba1b92c0b",
   "metadata": {},
   "outputs": [],
   "source": [
    "data['year'] = pd.to_datetime(data['year'], format='%Y')"
   ]
  },
  {
   "cell_type": "code",
   "execution_count": 6,
   "id": "b1644354-3b04-41bd-a186-f97155b49d04",
   "metadata": {},
   "outputs": [
    {
     "name": "stdout",
     "output_type": "stream",
     "text": [
      "<class 'pandas.core.frame.DataFrame'>\n",
      "RangeIndex: 13953 entries, 0 to 13952\n",
      "Data columns (total 4 columns):\n",
      " #   Column        Non-Null Count  Dtype         \n",
      "---  ------        --------------  -----         \n",
      " 0   country_code  13953 non-null  object        \n",
      " 1   country_name  13953 non-null  object        \n",
      " 2   year          13953 non-null  datetime64[ns]\n",
      " 3   value         13953 non-null  float64       \n",
      "dtypes: datetime64[ns](1), float64(1), object(2)\n",
      "memory usage: 436.2+ KB\n"
     ]
    }
   ],
   "source": [
    "data.info()"
   ]
  },
  {
   "cell_type": "code",
   "execution_count": 7,
   "id": "e44a7baf-842d-46f5-b147-65e9441dbc3a",
   "metadata": {},
   "outputs": [
    {
     "data": {
      "text/plain": [
       "Index(['country_code', 'country_name', 'year', 'value'], dtype='object')"
      ]
     },
     "execution_count": 7,
     "metadata": {},
     "output_type": "execute_result"
    }
   ],
   "source": [
    "data.columns"
   ]
  },
  {
   "cell_type": "code",
   "execution_count": 8,
   "id": "c24935b7-a694-41f3-bbe4-f39edf12aba2",
   "metadata": {},
   "outputs": [],
   "source": [
    "data.rename(columns={'value': 'co2_in_kt'}, inplace=True)"
   ]
  },
  {
   "cell_type": "code",
   "execution_count": 9,
   "id": "eadf080e-0b9d-4c41-b455-c634c365dc3a",
   "metadata": {},
   "outputs": [
    {
     "data": {
      "text/html": [
       "<div>\n",
       "<style scoped>\n",
       "    .dataframe tbody tr th:only-of-type {\n",
       "        vertical-align: middle;\n",
       "    }\n",
       "\n",
       "    .dataframe tbody tr th {\n",
       "        vertical-align: top;\n",
       "    }\n",
       "\n",
       "    .dataframe thead th {\n",
       "        text-align: right;\n",
       "    }\n",
       "</style>\n",
       "<table border=\"1\" class=\"dataframe\">\n",
       "  <thead>\n",
       "    <tr style=\"text-align: right;\">\n",
       "      <th></th>\n",
       "      <th>country_code</th>\n",
       "      <th>country_name</th>\n",
       "      <th>year</th>\n",
       "      <th>co2_in_kt</th>\n",
       "    </tr>\n",
       "  </thead>\n",
       "  <tbody>\n",
       "    <tr>\n",
       "      <th>0</th>\n",
       "      <td>ABW</td>\n",
       "      <td>Aruba</td>\n",
       "      <td>1960-01-01</td>\n",
       "      <td>11092.675000</td>\n",
       "    </tr>\n",
       "    <tr>\n",
       "      <th>1</th>\n",
       "      <td>ABW</td>\n",
       "      <td>Aruba</td>\n",
       "      <td>1961-01-01</td>\n",
       "      <td>11576.719000</td>\n",
       "    </tr>\n",
       "    <tr>\n",
       "      <th>2</th>\n",
       "      <td>ABW</td>\n",
       "      <td>Aruba</td>\n",
       "      <td>1962-01-01</td>\n",
       "      <td>12713.489000</td>\n",
       "    </tr>\n",
       "    <tr>\n",
       "      <th>3</th>\n",
       "      <td>ABW</td>\n",
       "      <td>Aruba</td>\n",
       "      <td>1963-01-01</td>\n",
       "      <td>12178.107000</td>\n",
       "    </tr>\n",
       "    <tr>\n",
       "      <th>4</th>\n",
       "      <td>ABW</td>\n",
       "      <td>Aruba</td>\n",
       "      <td>1964-01-01</td>\n",
       "      <td>11840.743000</td>\n",
       "    </tr>\n",
       "    <tr>\n",
       "      <th>...</th>\n",
       "      <td>...</td>\n",
       "      <td>...</td>\n",
       "      <td>...</td>\n",
       "      <td>...</td>\n",
       "    </tr>\n",
       "    <tr>\n",
       "      <th>13948</th>\n",
       "      <td>ZWE</td>\n",
       "      <td>Zimbabwe</td>\n",
       "      <td>2015-01-01</td>\n",
       "      <td>12430.000305</td>\n",
       "    </tr>\n",
       "    <tr>\n",
       "      <th>13949</th>\n",
       "      <td>ZWE</td>\n",
       "      <td>Zimbabwe</td>\n",
       "      <td>2016-01-01</td>\n",
       "      <td>11020.000458</td>\n",
       "    </tr>\n",
       "    <tr>\n",
       "      <th>13950</th>\n",
       "      <td>ZWE</td>\n",
       "      <td>Zimbabwe</td>\n",
       "      <td>2017-01-01</td>\n",
       "      <td>10340.000153</td>\n",
       "    </tr>\n",
       "    <tr>\n",
       "      <th>13951</th>\n",
       "      <td>ZWE</td>\n",
       "      <td>Zimbabwe</td>\n",
       "      <td>2018-01-01</td>\n",
       "      <td>12380.000114</td>\n",
       "    </tr>\n",
       "    <tr>\n",
       "      <th>13952</th>\n",
       "      <td>ZWE</td>\n",
       "      <td>Zimbabwe</td>\n",
       "      <td>2019-01-01</td>\n",
       "      <td>11760.000229</td>\n",
       "    </tr>\n",
       "  </tbody>\n",
       "</table>\n",
       "<p>13953 rows × 4 columns</p>\n",
       "</div>"
      ],
      "text/plain": [
       "      country_code country_name       year     co2_in_kt\n",
       "0              ABW        Aruba 1960-01-01  11092.675000\n",
       "1              ABW        Aruba 1961-01-01  11576.719000\n",
       "2              ABW        Aruba 1962-01-01  12713.489000\n",
       "3              ABW        Aruba 1963-01-01  12178.107000\n",
       "4              ABW        Aruba 1964-01-01  11840.743000\n",
       "...            ...          ...        ...           ...\n",
       "13948          ZWE     Zimbabwe 2015-01-01  12430.000305\n",
       "13949          ZWE     Zimbabwe 2016-01-01  11020.000458\n",
       "13950          ZWE     Zimbabwe 2017-01-01  10340.000153\n",
       "13951          ZWE     Zimbabwe 2018-01-01  12380.000114\n",
       "13952          ZWE     Zimbabwe 2019-01-01  11760.000229\n",
       "\n",
       "[13953 rows x 4 columns]"
      ]
     },
     "execution_count": 9,
     "metadata": {},
     "output_type": "execute_result"
    }
   ],
   "source": [
    "data"
   ]
  },
  {
   "cell_type": "code",
   "execution_count": 10,
   "id": "5f05e563-2924-4217-909f-c4a8526e5076",
   "metadata": {},
   "outputs": [
    {
     "name": "stdout",
     "output_type": "stream",
     "text": [
      " Datentr„ger in Laufwerk C: ist OS\n",
      " Volumeseriennummer: A27B-F329\n",
      "\n",
      " Verzeichnis von C:\\Users\\schue\\IronHack\\Bootcamp\\Week_5\\mid_project\\notebooks\n",
      "\n",
      "19.12.2023  08:32    <DIR>          .\n",
      "18.12.2023  14:51    <DIR>          ..\n",
      "18.12.2023  17:05    <DIR>          .ipynb_checkpoints\n",
      "18.12.2023  17:57            11.814 co2_emissions_cleaning.ipynb\n",
      "19.12.2023  08:28             8.703 gdp_cleaning.ipynb\n",
      "18.12.2023  16:52            35.844 global_temperatures_cleaning.ipynb\n",
      "19.12.2023  08:32            23.963 join_dataframe.ipynb\n",
      "               4 Datei(en),         80.324 Bytes\n",
      "               3 Verzeichnis(se), 34.098.692.096 Bytes frei\n"
     ]
    }
   ],
   "source": [
    "!dir"
   ]
  },
  {
   "cell_type": "code",
   "execution_count": 11,
   "id": "d70fac89-0ac5-4dc8-8a16-3f77d244d0a2",
   "metadata": {},
   "outputs": [],
   "source": [
    "data.to_csv('../data/cleaned/co2_emissions_kt_by_country_clean.csv', index=False)"
   ]
  },
  {
   "cell_type": "code",
   "execution_count": null,
   "id": "99a6093f-8167-41dd-b12d-04f5c0ca121c",
   "metadata": {},
   "outputs": [],
   "source": []
  },
  {
   "cell_type": "code",
   "execution_count": null,
   "id": "d8b16e6d-cb6a-4ecb-aecc-9f2243f8d357",
   "metadata": {},
   "outputs": [],
   "source": []
  }
 ],
 "metadata": {
  "kernelspec": {
   "display_name": "venv",
   "language": "python",
   "name": "venv"
  },
  "language_info": {
   "codemirror_mode": {
    "name": "ipython",
    "version": 3
   },
   "file_extension": ".py",
   "mimetype": "text/x-python",
   "name": "python",
   "nbconvert_exporter": "python",
   "pygments_lexer": "ipython3",
   "version": "3.11.5"
  }
 },
 "nbformat": 4,
 "nbformat_minor": 5
}
